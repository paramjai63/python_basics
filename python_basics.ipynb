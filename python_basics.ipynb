{
  "nbformat": 4,
  "nbformat_minor": 0,
  "metadata": {
    "colab": {
      "provenance": []
    },
    "kernelspec": {
      "name": "python3",
      "display_name": "Python 3"
    },
    "language_info": {
      "name": "python"
    }
  },
  "cells": [
    {
      "cell_type": "code",
      "execution_count": null,
      "metadata": {
        "id": "Ti-4bulLSnlG"
      },
      "outputs": [],
      "source": []
    },
    {
      "cell_type": "markdown",
      "source": [
        "1 What is Python, and why is it popular ?\n",
        "  - python is a high level, general-purpose programming language created by Guido Van Rossum and first released in 1991.\n",
        "     - High-level  means we don't need to worry about low-level details like memory management.\n",
        "     - General-purpose means we can use it for almost anything: web apps, data science,AI,automation, etc.\n",
        "  - python is one of the most popular programming language today,Reasons:\n",
        "     - Simple and easy to learn\n",
        "     - Versatile(Used Everywhere)\n",
        "     - Huge community support\n",
        "     - Libraries & Frameworks\n",
        "     - Cross-platforms\n",
        "\n",
        "2  What is an interpreter in Python ?\n",
        "  - An interpreter is a program that reads and executes python code line by line. when we write Python code(.py file), the interpreter is what actually understand and runs it. Unlike compiled language which are turned into machine code before running, python directly runs using its interpreter.\n",
        "    - types of python interpreter:\n",
        "       - CPython\n",
        "       - PyPy\n",
        "       - Jython\n",
        "       - IronPython    \n",
        "\n",
        "3.What are pre-defined keywords in Python?\n",
        "\n",
        "  - Keywords are reserved words in python. they already have a special meaning in the language. keywords are can't used as variable names, function name, or identifiers. In python there are 35 keywords somr of them are:\n",
        "    - False\n",
        "    - None\n",
        "    - True\n",
        "    - break\n",
        "    - global\n",
        "    - async\n",
        "    - asert\n",
        "    - yield\n",
        "    - lambda\n",
        "    - import\n",
        "    - pass, etc.\n",
        "\n",
        "4.Can keywords be used as variable names?\n",
        "  - No, keywords can't be used as variable names in python because they are reserved words with special meaning. If we use them as variables, python will get confused between variable name and language keywords.\n",
        "    - if = 10 print(if) this never will work is show an error \" if is a keywords \".\n",
        "\n",
        "5.What is mutability in Python?\n",
        "\n",
        "  - In Python, mutability refers to whether an object's state or value can be changed after it has been created.\n",
        "  - Mutable Objects: These are objects whose content or internal state can be modified after they are initialized, without creating a new object in memory. When we modify a mutable object, the changes are made in place, and any variables referencing that object will reflect the changes. - Examples of mutable types: Lists, dictionaries, sets, and user-defined classes.\n",
        "\n",
        "6.Why are lists mutable, but tuples are immutable?\n",
        "\n",
        "  - Tuple and list data structures are very similar, but one big difference between the data types is that lists are mutable, whereas tuples are immutable. The reason for the tuple's immutability is that once the elements are added to the tuple and the tuple has been created; it remains unchanged.\n",
        "\n",
        "7.What is the difference between “==” and “is” operators in Python\n",
        "  - In Python, the == and is operators serve distinct purposes when comparing objects:\n",
        "  - == (Equality Operator):\n",
        "      - This operator compares the values of two objects.\n",
        "      - It evaluates whether the content or data represented by the objects is the same.\n",
        "  - is (Identity Operator):\n",
        "    - This operator compares the identity of two objects.\n",
        "    - It checks whether two variables refer to the exact same object in memory.\n",
        "    - It essentially compares the memory addresses of the objects.\n",
        "\n",
        "8.What are logical operators in Python?\n",
        "  - Logical operators in Python are used to combine conditional statements and evaluate expressions based on multiple conditions. They operate on Boolean values (True or False) and return a Boolean result.\n",
        "  - Python has three logical operators:\n",
        "    - and (Logical AND):\n",
        "      - Returns True if both operands are True.\n",
        "      - Returns False if eother or both operands are False.\n",
        "      - Example:(5 > 2) and (10 < 20) evaluates to True.\n",
        "    - or (Logical OR):\n",
        "      - Returns True of at least one of the pperands is True.\n",
        "      - Returns False only if both operands are False.\n",
        "      - Example: (5 > 10) or (10 < 20) evaluates to True.\n",
        "   \n",
        "   - not (Logical NOT):\n",
        "     - This is a unary operator, meaning it operates on a single operand.\n",
        "     - Returns the inverse of the operand's Boolean value. If the operand is True, not returns False, and vice versa.\n",
        "     - Example: not (5 > 10) evaluates to True.\n",
        "\n",
        "9.What is type casting in Python?\n",
        "  - Type casting in Python, also known as type conversion, refers to the process of converting a variable from one data type to another. This can be done either implicitly (automatically by the interpreter) or explicitly (manually by the programmer).\n",
        "  - Implicit Type Conversion (Coercion)\n",
        "  - Explicit Type Conversion (Type Casting)\n",
        "\n",
        "10.What is the difference between implicit and explicit type casting?\n",
        "\n",
        "  - Implicit Type Conversion (Coercion): This occurs automatically when Python needs to perform an operation involving different data types. Python will convert the lower data type to a higher data type to avoid data loss. For example, when adding an integer and a float, the integer will be implicitly converted to a float.\n",
        "    - num_int = 10\n",
        "    - num_float = 5.5\n",
        "    - result = num_int + num_float\n",
        "    - print(result) # Output: 15.5 (int was converted to float)\n",
        "    - print(type(result)) # Output: <class 'float'>\n",
        "  - Explicit Type Conversion (Type Casting): This is performed by the programmer using built-in functions to convert a variable to a specific data type. This gives the programmer control over the conversion process and is necessary when automatic conversion is not desired or possible. Common functions for explicit type casting include:\n",
        "    - int(): Converts to an integer.\n",
        "    - float(): Converts to a floating-point number.\n",
        "    - str(): Converts to a string.\n",
        "    - bool(): Converts to a boolean.\n",
        "    - list(), tuple(), set(), dict(): Convert to respective collection types.\n",
        "      - num_str = \"123\"\n",
        "      - num_int = int(num_str) # Converting string to integer\n",
        "      - print(num_int) # Output: 123\n",
        "      - print(type(num_int)) # Output: <class 'int'>\n",
        "\n",
        "11.What is the purpose of conditional statements in Python?\n",
        "  - The purpose of conditional statements in Python is to enable decision-making within a program, allowing different blocks of code to be executed based on whether specific conditions are true or false. This provides control over the program's flow, making it dynamic and responsive to varying inputs or states.\n",
        "  - Here are the key aspects of their purpose:\n",
        "    - Controlling Program Flow:\n",
        "      - Conditional statements, such as if, if-else, and if-elif-else, direct the program to follow different paths of execution depending on the evaluation of a condition.\n",
        "    - Decision-Making:\n",
        "      - They allow programs to make choices, executing specific actions only when certain criteria are met. For example, a program might check if a user is old enough to access a feature and grant or deny access accordingly.\n",
        "    - Handling Multiple Scenarios:\n",
        "      - if-elif-else constructs are particularly useful for handling multiple, mutually exclusive conditions, ensuring that only one specific block of code is executed among several possibilities.\n",
        "    - Implementing Logic:\n",
        "      - Conditional statements are fundamental for implementing complex logical structures within a program, allowing it to respond intelligently to different situations and data.\n",
        "\n",
        "12.How does the elif statement work?\n",
        "  - The elif statement, short for \"else if,\" is a conditional control flow statement used in programming languages like Python. It allows for the evaluation of multiple conditions in a sequential manner, providing an alternative path of execution when the preceding if or elif conditions are not met.\n",
        "  - score = 75\n",
        "  - if score >=90:\n",
        "  - print(\"Grade:A\")\n",
        "  - elif score >= 80:\n",
        "  - print(\"Grade: B\")\n",
        "  - elif score >= 70:\n",
        "  - print(\"Grade: C\")\n",
        "  - else:\n",
        "  - print(\"Grade: F\")\n",
        "    - In this example, since score is 75, the first two conditions (score >= 90 and score >= 80) are False. The program then checks score >= 70, which is True, so \"Grade: C\" is printed, and the else block is skipped.\n",
        "\n",
        "\n",
        "13.What is the difference between for and while loop?\n",
        "  - for loop\n",
        "  - Purpose:\n",
        "    - To execute a block of code a fixed number of times or for each item in a collection (like an array or list).\n",
        "  - Structure:\n",
        "    - Typically includes initialization, condition, and update (increment/decrement) in its header.\n",
        "  - Use Cases:\n",
        "    - When you know the exact number of iterations required.\n",
        "    - Iterating over elements in a collection.\n",
        "    - Examples: Counting from 1 to 10, processing each item in a user list.\n",
        "\n",
        "14.Describe a scenario where a while loop is more suitable than a for loop.?\n",
        "  - A scenario where a while loop is more suitable than a for loop is when the number of iterations is unknown beforehand and depends on a dynamic condition.\n",
        "    - Example Scenario: User Input Validation\n",
        "      - Consider a program that needs to repeatedly prompt the user for input until a specific valid input is provided. The program has no way of knowing how many times the user might enter invalid input before providing the correct one.\n",
        "        - user_input = \"\"\n",
        "        - -while user_input != \"quit\":\n",
        "        - user_input = input(\"Enter a command (type 'quit' to exit): \")\n",
        "        - print(f\"You entered: {user_input}\")\n",
        "\n",
        "\n",
        "\n",
        "\n",
        "\n",
        "\n",
        "\n",
        "\n",
        "\n",
        "\n",
        "\n",
        "\n",
        "\n",
        "\n",
        "\n",
        "      \n",
        "\n",
        "\n",
        "\n",
        "\n",
        "\n",
        "\n",
        "\n",
        "\n",
        "\n",
        "\n",
        "\n",
        "\n",
        "\n",
        "\n",
        "\n",
        "\n",
        "\n",
        "\n",
        "\n",
        "\n",
        "\n",
        "\n",
        "    \n",
        "\n",
        "\n",
        "\n",
        "\n",
        "\n",
        "\n"
      ],
      "metadata": {
        "id": "AWVD7NqIUEN2"
      }
    },
    {
      "cell_type": "code",
      "source": [
        "print(\"Hello, world!\")"
      ],
      "metadata": {
        "id": "t0NBYKtHfVzi"
      },
      "execution_count": null,
      "outputs": []
    },
    {
      "cell_type": "code",
      "source": [
        "name = \"paramjai\"\n",
        "age = 21\n",
        "\n",
        "print(f\"My name is {name} and I am {age} years old.\")"
      ],
      "metadata": {
        "id": "Bnf5I2s8g3xg"
      },
      "execution_count": null,
      "outputs": []
    },
    {
      "cell_type": "code",
      "source": [
        "import keyword\n",
        "\n",
        "print(keyword.kwlist)"
      ],
      "metadata": {
        "id": "jXy0Jv5KhH7B"
      },
      "execution_count": null,
      "outputs": []
    },
    {
      "cell_type": "code",
      "source": [
        "\n",
        "import keyword\n",
        "\n",
        "word_to_check = input(\"Enter a word to check if it's a Python keyword: \")\n",
        "\n",
        "if keyword.iskeyword(word_to_check):\n",
        "  print(f\"'{word_to_check}' is a Python keyword.\")\n",
        "else:\n",
        "  print(f\"'{word_to_check}' is not a Python keyword.\")"
      ],
      "metadata": {
        "id": "MhTUtbIEhOil"
      },
      "execution_count": null,
      "outputs": []
    },
    {
      "cell_type": "code",
      "source": [
        "# Create a list\n",
        "my_list = [1, 2, 3, 4, 5]\n",
        "print(\"Original list:\", my_list)\n",
        "\n",
        "# Change an element in the list\n",
        "my_list[0] = 10\n",
        "print(\"List after changing an element:\", my_list)\n",
        "\n",
        "print(\"-\" * 20) # Separator\n",
        "\n",
        "# Create a tuple\n",
        "my_tuple = (1, 2, 3, 4, 5)\n",
        "print(\"Original tuple:\", my_tuple)\n",
        "\n",
        "# Attempt to change an element in the tuple (this will cause a TypeError like \" 'tuple' object does not support item assignment \")\n",
        "my_tuple[0] = 10\n",
        "print(\"Tuple after attempting to change an element:\", my_tuple)"
      ],
      "metadata": {
        "id": "pwqwYJHWhSBk"
      },
      "execution_count": null,
      "outputs": []
    },
    {
      "cell_type": "code",
      "source": [
        "# Function to modify arguments\n",
        "def modify_values(num, my_list):\n",
        "    # num is immutable (int)\n",
        "    num += 10\n",
        "\n",
        "    # my_list is mutable (list)\n",
        "    my_list.append(100)\n",
        "\n",
        "    print(\"Inside function:\")\n",
        "    print(\"num =\", num)\n",
        "    print(\"my_list =\", my_list)\n",
        "\n",
        "\n",
        "# Main code\n",
        "num = 5\n",
        "my_list = [1, 2, 3]\n",
        "\n",
        "print(\"Before function call:\")\n",
        "print(\"num =\", num)\n",
        "print(\"my_list =\", my_list)\n",
        "\n",
        "modify_values(num, my_list)\n",
        "\n",
        "print(\"\\nAfter function call:\")\n",
        "print(\"num =\", num)       # Unchanged (immutable)\n",
        "print(\"my_list =\", my_list)  # Changed (mutable)"
      ],
      "metadata": {
        "id": "EPp6lnKrhV8O"
      },
      "execution_count": null,
      "outputs": []
    },
    {
      "cell_type": "code",
      "source": [
        "a = int(input(\"Enter first number: \"))\n",
        "b = int(input(\"Enter second number: \"))\n",
        "print(\"Sum:\", a + b)\n",
        "print(\"Difference:\", a - b)\n",
        "print(\"Product:\", a * b)\n",
        "print(\"Quotient:\", a / b)"
      ],
      "metadata": {
        "id": "XqJ23r69hdCK"
      },
      "execution_count": null,
      "outputs": []
    },
    {
      "cell_type": "code",
      "source": [
        "x = True\n",
        "y = False\n",
        "print(\"x and y:\", x and y)\n",
        "print(\"x or y:\", x or y)\n",
        "print(\"not x:\", not x)"
      ],
      "metadata": {
        "id": "imAqlky6hf7A"
      },
      "execution_count": null,
      "outputs": []
    },
    {
      "cell_type": "code",
      "source": [
        "s = input(\"Enter a value: \")\n",
        "print(\"As integer:\", int(s))\n",
        "print(\"As float:\", float(s))\n",
        "print(\"As boolean:\", bool(s))"
      ],
      "metadata": {
        "id": "OD974Ka_hiMC"
      },
      "execution_count": null,
      "outputs": []
    },
    {
      "cell_type": "code",
      "source": [
        "lst = [\"10\", \"20\", \"30\"]\n",
        "lst = [int(i) for i in lst]\n",
        "print(lst)"
      ],
      "metadata": {
        "id": "CmFAfR9ZhkVM"
      },
      "execution_count": null,
      "outputs": []
    },
    {
      "cell_type": "code",
      "source": [
        "\n",
        "n = int(input(\"Enter a number: \"))\n",
        "if n > 0:\n",
        "    print(\"Positive\")\n",
        "elif n < 0:\n",
        "    print(\"Negative\")\n",
        "else:\n",
        "    print(\"Zero\")"
      ],
      "metadata": {
        "id": "ahukuEFQhmsj"
      },
      "execution_count": null,
      "outputs": []
    },
    {
      "cell_type": "code",
      "source": [
        "\n",
        "for i in range(1, 11):\n",
        "    print(i)"
      ],
      "metadata": {
        "id": "r2DIq07zhpBY"
      },
      "execution_count": null,
      "outputs": []
    },
    {
      "cell_type": "code",
      "source": [
        "\n",
        "total = 0\n",
        "for i in range(2, 51, 2):\n",
        "    total += i\n",
        "print(\"Sum of even numbers:\", total)"
      ],
      "metadata": {
        "id": "vpS87PCnhqx9"
      },
      "execution_count": null,
      "outputs": []
    },
    {
      "cell_type": "code",
      "source": [
        "\n",
        "text = input(\"Enter a string: \")\n",
        "rev = \"\"\n",
        "i = len(text) - 1\n",
        "while i >= 0:\n",
        "    rev += text[i]\n",
        "    i -= 1\n",
        "print(\"Reversed string:\", rev)"
      ],
      "metadata": {
        "id": "D529kbbchvyl"
      },
      "execution_count": null,
      "outputs": []
    },
    {
      "cell_type": "code",
      "source": [
        "\n",
        "num = int(input(\"Enter a number: \"))\n",
        "fact = 1\n",
        "while num > 0:\n",
        "    fact *= num\n",
        "    num -= 1\n",
        "print(\"Factorial:\", fact)"
      ],
      "metadata": {
        "id": "9Iu9My7XhyCW"
      },
      "execution_count": null,
      "outputs": []
    }
  ]
}